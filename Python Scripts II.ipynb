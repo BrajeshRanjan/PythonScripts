{
 "cells": [
  {
   "cell_type": "code",
   "execution_count": 1,
   "metadata": {},
   "outputs": [],
   "source": [
    "import pandas as pd\n",
    "import numpy as np\n",
    "import matplotlib.pyplot as plt"
   ]
  },
  {
   "cell_type": "code",
   "execution_count": 5,
   "metadata": {},
   "outputs": [
    {
     "name": "stdout",
     "output_type": "stream",
     "text": [
      "C:\\Users\\Brajesh Ranjan\\Desktop\\Python\\Python\\IMDB Case study\n"
     ]
    },
    {
     "data": {
      "text/plain": [
       "'C:\\\\Users\\\\Brajesh Ranjan\\\\Desktop\\\\Python\\\\Python\\\\IMDB Case study'"
      ]
     },
     "execution_count": 5,
     "metadata": {},
     "output_type": "execute_result"
    }
   ],
   "source": [
    "%pwd\n",
    "%cd \"C:\\Users\\Brajesh Ranjan\\Desktop\\Python\\Python\\IMDB Case study\"\n",
    "%pwd\n",
    "pandas.read_csv(, sep =',', delimiter=None, header='infer', =',', delimiter=None, header='infer', =',', delimiter=None, header='infer', =',', delimiter=None, header='infer', =',', delimiter=None, header='infer', =',', delimiter=None, header='infer', =',', delimiter=None, header='infer', =',', delimiter=None, header='infer', =',', delimiter=None, header='infer', =',', delimiter=None, header='infer', =',', delimiter=None, header='infer', =',', delimiter=None, header='infer', =',', delimiter=None, header='infer', =',', delimiter=None, header='infer', =',', delimiter=None, header='infer',\n",
    "names=None, names=None, names=None, names=None, index_col index_col =None, usecols"
   ]
  }
 ],
 "metadata": {
  "kernelspec": {
   "display_name": "Python 3",
   "language": "python",
   "name": "python3"
  },
  "language_info": {
   "codemirror_mode": {
    "name": "ipython",
    "version": 3
   },
   "file_extension": ".py",
   "mimetype": "text/x-python",
   "name": "python",
   "nbconvert_exporter": "python",
   "pygments_lexer": "ipython3",
   "version": "3.6.5"
  }
 },
 "nbformat": 4,
 "nbformat_minor": 2
}
